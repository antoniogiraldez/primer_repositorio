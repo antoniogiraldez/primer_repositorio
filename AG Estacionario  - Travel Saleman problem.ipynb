{
 "cells": [
  {
   "cell_type": "code",
   "execution_count": 1,
   "metadata": {},
   "outputs": [],
   "source": [
    "import math \n",
    "import random\n",
    "import numpy as np\n",
    "import matplotlib.pyplot as plt"
   ]
  },
  {
   "cell_type": "code",
   "execution_count": 2,
   "metadata": {},
   "outputs": [],
   "source": [
    "tagged=[[(\"a,\",2),(\"b\",3)],[(\"a,\",2),(\"b\",3)]]"
   ]
  },
  {
   "cell_type": "code",
   "execution_count": 3,
   "metadata": {},
   "outputs": [
    {
     "name": "stdout",
     "output_type": "stream",
     "text": [
      "b\n"
     ]
    }
   ],
   "source": [
    "for i in range(len(tagged)):\n",
    "    for j in tagged[i]:\n",
    "        if j[1]==3:\n",
    "            print(j[0])\n",
    "    break"
   ]
  },
  {
   "cell_type": "code",
   "execution_count": 4,
   "metadata": {},
   "outputs": [],
   "source": [
    "#VALORES INICIALES\n",
    "po = 4 #Número de individuos por población\n",
    "pm = 0.35 #Probabilidad de mutación\n",
    "pc = 0.9 #Probabilidad de cruzamiento\n",
    "GenMax = 50 #Número de generaciones máx"
   ]
  },
  {
   "cell_type": "code",
   "execution_count": 5,
   "metadata": {},
   "outputs": [
    {
     "data": {
      "text/plain": [
       "array([[  0, 174, 856, 908, 571],\n",
       "       [205,   0, 144, 694, 776],\n",
       "       [685, 897,   0, 740, 277],\n",
       "       [823, 492, 867,   0,  78],\n",
       "       [726, 690, 511, 155,   0]])"
      ]
     },
     "execution_count": 5,
     "metadata": {},
     "output_type": "execute_result"
    }
   ],
   "source": [
    "#Matriz con la distancia entre las ciudad \n",
    "n = 5 #número de ciudades\n",
    "dist = 1000 #distancia máxima entre ciudades\n",
    "A = np.random.randint(10,dist, size=(n, n))\n",
    "np.fill_diagonal(A, 0)\n",
    "A"
   ]
  },
  {
   "cell_type": "code",
   "execution_count": 6,
   "metadata": {},
   "outputs": [],
   "source": [
    "#Función de la creación de la población inicial\n",
    "def matriz_solucion(n,po):\n",
    "    for i in range(po):\n",
    "        vec_sol = np.arange(n) #Debe de tener una longitud del número de ciudades\n",
    "        np.random.shuffle(vec_sol) #Desordenamos el vector\n",
    "        if i == 0:\n",
    "            mat_pob = vec_sol.copy()\n",
    "        else:\n",
    "            mat_pob = np.vstack([mat_pob, vec_sol])\n",
    "    return mat_pob"
   ]
  },
  {
   "cell_type": "code",
   "execution_count": 7,
   "metadata": {},
   "outputs": [
    {
     "data": {
      "text/plain": [
       "array([[0, 3, 1, 4, 2],\n",
       "       [1, 4, 0, 3, 2],\n",
       "       [0, 1, 3, 4, 2],\n",
       "       [2, 4, 0, 3, 1]])"
      ]
     },
     "execution_count": 7,
     "metadata": {},
     "output_type": "execute_result"
    }
   ],
   "source": [
    "mat_pob = matriz_solucion(n,4)\n",
    "mat_pob"
   ]
  },
  {
   "cell_type": "code",
   "execution_count": 8,
   "metadata": {},
   "outputs": [],
   "source": [
    "#Función del calculo de la distancia recorrida por el vector solución\n",
    "def distancia_recorrida(mat_pob):\n",
    "    distancias=[]\n",
    "    for k in range(len(mat_pob)):\n",
    "        vec_sol = mat_pob[k]\n",
    "        distancia=0\n",
    "        for i in range(len(vec_sol)-1): #distancias entre la ciudad inicial hasta la ciudad n\n",
    "            distancia = distancia + A[vec_sol[i],vec_sol[i+1]]\n",
    "        distancia = distancia + A[vec_sol[-1],vec_sol[0]] #Suma de la distancia entre la última ciudad y la ciudad inicial\n",
    "        distancias.append(distancia)\n",
    "    return distancias"
   ]
  },
  {
   "cell_type": "code",
   "execution_count": 9,
   "metadata": {},
   "outputs": [
    {
     "data": {
      "text/plain": [
       "[3372, 4174, 2142, 2547]"
      ]
     },
     "execution_count": 9,
     "metadata": {},
     "output_type": "execute_result"
    }
   ],
   "source": [
    "dist_pob = distancia_recorrida(mat_pob)\n",
    "dist_pob"
   ]
  },
  {
   "cell_type": "code",
   "execution_count": 10,
   "metadata": {},
   "outputs": [
    {
     "data": {
      "text/plain": [
       "array([0, 1, 3, 4, 2])"
      ]
     },
     "execution_count": 10,
     "metadata": {},
     "output_type": "execute_result"
    }
   ],
   "source": [
    "#Guardamos la mejor solución de la población\n",
    "Max_sol_fitness = mat_pob[np.argmin(np.array(dist_pob))]\n",
    "Max_sol_fitness"
   ]
  },
  {
   "cell_type": "code",
   "execution_count": 11,
   "metadata": {},
   "outputs": [],
   "source": [
    "# Función para la selección de padres por torneo\n",
    "def seleccion_padres(mp,fp):\n",
    "    fp2 = fp.copy()\n",
    "    padre1= mp[np.argmax(fp2)]\n",
    "    fp2[np.argmax(fp2)]= 0\n",
    "    padre2 = mp[np.argmax(fp2)]\n",
    "    return padre1, padre2"
   ]
  },
  {
   "cell_type": "code",
   "execution_count": 12,
   "metadata": {},
   "outputs": [],
   "source": [
    "def cruzamiento(padre1,padre2): # Position-based Crossover\n",
    "    def cruzamiento_(padre1,padre2):\n",
    "        valores_P1 = np.random.choice(padre1, np.random.randint(1,len(padre1)), replace=False)\n",
    "        hijo1 = np.zeros(len(padre1))\n",
    "        P2 = padre2.copy()\n",
    "        for i in valores_P1:\n",
    "            indice = np.where(padre1 == i)\n",
    "            hijo1[indice[0][0]] = i\n",
    "            P2[np.where(padre2 == i)]=-1\n",
    "        for j in P2:\n",
    "            if j!=-1:\n",
    "                hijo1[np.argmin(hijo1)]=j\n",
    "        return hijo1\n",
    "        \n",
    "    hijo1 = cruzamiento_(padre1,padre2)\n",
    "    hijo2 = cruzamiento_(padre2,padre1)\n",
    "    \n",
    "    return hijo1,hijo2"
   ]
  },
  {
   "cell_type": "code",
   "execution_count": 13,
   "metadata": {},
   "outputs": [],
   "source": [
    "def mutacion(hijo1, hijo2,pm):\n",
    "    def SWAP(vec_sol):\n",
    "        #Implementación del SWAP\n",
    "        vec_sol2 = vec_sol.copy()\n",
    "        swap = np.random.choice(vec_sol2, 2, replace=False)\n",
    "        ciudad1 = swap[0]\n",
    "        ciudad2 = swap[1]\n",
    "        ind_c1 = np.where(vec_sol2 == ciudad1)\n",
    "        ind_c2 = np.where(vec_sol2 == ciudad2)\n",
    "\n",
    "        #Intercambio de ciudades\n",
    "        vec_sol2[ind_c1] = ciudad2\n",
    "        vec_sol2[ind_c2] = ciudad1\n",
    "        return vec_sol2\n",
    "\n",
    "    if np.random.rand(1) < pm:\n",
    "        hijo1 = SWAP(hijo1)\n",
    "    if np.random.rand(1) < pm:\n",
    "        hijo2 = SWAP(hijo2)\n",
    "    \n",
    "    return hijo1,hijo2"
   ]
  },
  {
   "cell_type": "code",
   "execution_count": 14,
   "metadata": {},
   "outputs": [],
   "source": [
    "#Función de reemplazo - Determinista, se reemplazan los n peores\n",
    "def reemplazo(mp,fp,hijo1,hijo2):\n",
    "    mp2 = mp.copy()\n",
    "    fp2 = fp.copy()\n",
    "    mp2[np.argmin(fp2)] = hijo1\n",
    "    fp2[np.argmin(fp2)]= np.max(fp2)\n",
    "    mp2[np.argmin(fp2)] = hijo2\n",
    "    return mp2  "
   ]
  },
  {
   "cell_type": "code",
   "execution_count": 15,
   "metadata": {},
   "outputs": [],
   "source": [
    "#Función de reemplazo - Determinista, reemplazaremos al mejor y al peor \n",
    "def reemplazo2(mp,fp,hijo1,hijo2):\n",
    "    mp2 = mp.copy()\n",
    "    fp2 = fp.copy()\n",
    "    mp2[np.argmin(fp2)] = hijo1\n",
    "    mp2[np.argmax(fp2)] = hijo2\n",
    "    return mp2"
   ]
  },
  {
   "cell_type": "code",
   "execution_count": 16,
   "metadata": {},
   "outputs": [
    {
     "data": {
      "text/plain": [
       "array([[  0, 498,  67, ..., 425,  96, 770],\n",
       "       [772,   0, 341, ..., 593, 802, 446],\n",
       "       [868, 124,   0, ..., 771, 461,  79],\n",
       "       ...,\n",
       "       [898, 301, 770, ...,   0, 741, 825],\n",
       "       [353, 271, 333, ..., 206,   0, 323],\n",
       "       [679, 968, 109, ..., 245, 990,   0]])"
      ]
     },
     "execution_count": 16,
     "metadata": {},
     "output_type": "execute_result"
    }
   ],
   "source": [
    "#VALORES INICIALES\n",
    "po = 4 #Número de individuos por población\n",
    "pm = 0.01 #Probabilidad de mutación\n",
    "pc = 0.9 #Probabilidad de cruzamiento\n",
    "GenMax = 250 #Número de generaciones máx\n",
    "\n",
    "#Matriz con la distancia entre las ciudad \n",
    "n = 100 #número de ciudades\n",
    "dist = 1000 #distancia máxima entre ciudades\n",
    "A = np.random.randint(10,dist, size=(n, n))\n",
    "np.fill_diagonal(A, 0)\n",
    "A"
   ]
  },
  {
   "cell_type": "code",
   "execution_count": 17,
   "metadata": {},
   "outputs": [
    {
     "name": "stdout",
     "output_type": "stream",
     "text": [
      "[[14 82 22 48 68 34  1 69 87 71 40 53 16 60 18 75 81 50 74 27 66 88 10 58\n",
      "  62 23 54  4 95  7  9 63 96 17 76  0 52  2 21 97  3 84 93 30 92 94 41 35\n",
      "  11 39 36 56  6 70 55 26 89 25 24 33 57 13 47 61 31 59 65  5 67 80 44 49\n",
      "  38 98 83 86 91 43 29 64 12 15 20 46 32 78 79 28 45 72 90 85  8 42 73 51\n",
      "  19 99 77 37]\n",
      " [27 86  4 25 42 15 21 67 94 95 59 50 37 41 13 69 54 53 88 48 44 92 99 58\n",
      "  76 89 24 40 73 91 31 96 20  6 97  5 87 82 14 26 47 49 22 51 64 83 71 34\n",
      "   2 32 33 55 84 85  3 16 11 74 60  9 43 81 10 90 23 77 35 19 18 61  1 68\n",
      "  98 93 65 79 70  0  7 72 80 17 75 52 28 36 56 29 78 63 46 30 62  8 57 38\n",
      "  66 12 39 45]\n",
      " [93 84 40 82 22 44 24 67 70 60 87 95  1  2 15 35 32 29  7 52 99 12 91 41\n",
      "   0 94 28  8 13 57  3 63 96 18 33 73 42  4 92 11 23 88 38 83 56 78 54 53\n",
      "  85 81 58 49 43 66 37 77 30 31 71 72 14 59 61 97 75 25 17 39 62 86 90 20\n",
      "  80 64 89 34  6 48 16 98 46 10  5 76 19 51 69 68 50 55 45 27 26  9 21 36\n",
      "  65 79 47 74]\n",
      " [78 77 75 22 47 21 71 76 46 56 74 58 28  8 38 66 73 52 82 57 34 85 55 26\n",
      "  48 45 10  9 59  1 54 83  4 19 96 39 93 12 51 89 14 41 53 31 91 90 72 17\n",
      "  49  2 60 37 36 94 86 92 80 50 29  7 32  3 30 95 33 88 79 44 16 99 61 70\n",
      "  43 25 67 81 97 62 68 24 11 27  6 63  5 35 64 98 13 87 23 20 84 40 15 42\n",
      "  65  0 18 69]]\n",
      "[47024, 51019, 51759, 54063]\n"
     ]
    },
    {
     "data": {
      "text/plain": [
       "array([14, 82, 22, 48, 68, 34,  1, 69, 87, 71, 40, 53, 16, 60, 18, 75, 81,\n",
       "       50, 74, 27, 66, 88, 10, 58, 62, 23, 54,  4, 95,  7,  9, 63, 96, 17,\n",
       "       76,  0, 52,  2, 21, 97,  3, 84, 93, 30, 92, 94, 41, 35, 11, 39, 36,\n",
       "       56,  6, 70, 55, 26, 89, 25, 24, 33, 57, 13, 47, 61, 31, 59, 65,  5,\n",
       "       67, 80, 44, 49, 38, 98, 83, 86, 91, 43, 29, 64, 12, 15, 20, 46, 32,\n",
       "       78, 79, 28, 45, 72, 90, 85,  8, 42, 73, 51, 19, 99, 77, 37])"
      ]
     },
     "execution_count": 17,
     "metadata": {},
     "output_type": "execute_result"
    }
   ],
   "source": [
    "mat_pob = matriz_solucion(n,po)\n",
    "dist_pob = distancia_recorrida(mat_pob)\n",
    "print(mat_pob)\n",
    "print(dist_pob)\n",
    "#Guardamos la mejor solución de la población\n",
    "Max_sol_fitness = mat_pob[np.argmin(np.array(dist_pob))]\n",
    "Max_sol_fitness"
   ]
  },
  {
   "cell_type": "code",
   "execution_count": 18,
   "metadata": {},
   "outputs": [],
   "source": [
    "lista_max_sol_fitness = [min(dist_pob)]\n",
    "lista_mejor_poblacion_actual=[min(dist_pob)]\n",
    "\n",
    "for k in range(GenMax):\n",
    "    rcruzamiento = np.random.rand(1)\n",
    "    if rcruzamiento < pc:\n",
    "        padre1, padre2 = seleccion_padres(mat_pob,dist_pob) #seleccion de padres\n",
    "        hijo1, hijo2 = cruzamiento(padre1,padre2) #cruzamiento\n",
    "        hijo1, hijo2 = mutacion(hijo1, hijo2,pm) #mutación de los hijos\n",
    "        mat_pob = reemplazo(mat_pob,dist_pob,hijo1,hijo2) #Reemplazo en la población\n",
    "        \n",
    "        fitness_pob = distancia_recorrida(mat_pob)\n",
    "        lista_mejor_poblacion_actual.append(min(fitness_pob))\n",
    "        if min(fitness_pob) < min(dist_pob):\n",
    "            Max_sol_fitness = mat_pob[np.argmin(np.array(dist_pob))]\n",
    "            dist_pob = fitness_pob.copy()\n",
    "            lista_max_sol_fitness.append(min(dist_pob))"
   ]
  },
  {
   "cell_type": "code",
   "execution_count": 19,
   "metadata": {},
   "outputs": [
    {
     "data": {
      "text/plain": [
       "[47024, 45756, 43953]"
      ]
     },
     "execution_count": 19,
     "metadata": {},
     "output_type": "execute_result"
    }
   ],
   "source": [
    "lista_max_sol_fitness"
   ]
  },
  {
   "cell_type": "code",
   "execution_count": 20,
   "metadata": {},
   "outputs": [
    {
     "data": {
      "text/plain": [
       "[<matplotlib.lines.Line2D at 0x143e288a1c8>]"
      ]
     },
     "execution_count": 20,
     "metadata": {},
     "output_type": "execute_result"
    },
    {
     "data": {
      "image/png": "[encoded data removed]",
      "text/plain": [
       "<Figure size 432x288 with 1 Axes>"
      ]
     },
     "metadata": {
      "needs_background": "light"
     },
     "output_type": "display_data"
    }
   ],
   "source": [
    "plt.plot(lista_mejor_poblacion_actual,color=\"red\") #Todas las distancias\n",
    "#plt.plot(range(len(lista_max_sol_fitness)),lista_max_sol_fitness,color=\"blue\") #Las mejores distancias"
   ]
  },
  {
   "cell_type": "code",
   "execution_count": 21,
   "metadata": {},
   "outputs": [
    {
     "data": {
      "text/plain": [
       "[<matplotlib.lines.Line2D at 0x143e3019548>]"
      ]
     },
     "execution_count": 21,
     "metadata": {},
     "output_type": "execute_result"
    },
    {
     "data": {
      "image/png": "[encoded data removed]",
      "text/plain": [
       "<Figure size 432x288 with 1 Axes>"
      ]
     },
     "metadata": {
      "needs_background": "light"
     },
     "output_type": "display_data"
    }
   ],
   "source": [
    "plt.plot(lista_max_sol_fitness,color=\"blue\") #Las mejores distancias"
   ]
  },
  {
   "cell_type": "code",
   "execution_count": 22,
   "metadata": {},
   "outputs": [
    {
     "data": {
      "text/plain": [
       "50707"
      ]
     },
     "execution_count": 22,
     "metadata": {},
     "output_type": "execute_result"
    }
   ],
   "source": [
    "min(fitness_pob)"
   ]
  },
  {
   "cell_type": "code",
   "execution_count": null,
   "metadata": {},
   "outputs": [],
   "source": []
  }
 ],
 "metadata": {
  "kernelspec": {
   "display_name": "Python 3",
   "language": "python",
   "name": "python3"
  },
  "language_info": {
   "codemirror_mode": {
    "name": "ipython",
    "version": 3
   },
   "file_extension": ".py",
   "mimetype": "text/x-python",
   "name": "python",
   "nbconvert_exporter": "python",
   "pygments_lexer": "ipython3",
   "version": "3.7.6"
  }
 },
 "nbformat": 4,
 "nbformat_minor": 4
}
